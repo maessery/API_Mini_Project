{
 "cells": [
  {
   "cell_type": "markdown",
   "metadata": {},
   "source": [
    "This exercise will require you to pull some data from the Qunadl API. Qaundl is currently the most widely used aggregator of financial market data."
   ]
  },
  {
   "cell_type": "markdown",
   "metadata": {},
   "source": [
    "As a first step, you will need to register a free account on the http://www.quandl.com website."
   ]
  },
  {
   "cell_type": "markdown",
   "metadata": {},
   "source": [
    "After you register, you will be provided with a unique API key, that you should store:"
   ]
  },
  {
   "cell_type": "code",
   "execution_count": 1,
   "metadata": {},
   "outputs": [],
   "source": [
    "# Store the API key as a string - according to PEP8, constants are always named in all upper case\n",
    "API_KEY = 'oV3LCMFuxGcsZ8dkJqc8'"
   ]
  },
  {
   "cell_type": "markdown",
   "metadata": {},
   "source": [
    "Qaundl has a large number of data sources, but, unfortunately, most of them require a Premium subscription. Still, there are also a good number of free datasets."
   ]
  },
  {
   "cell_type": "markdown",
   "metadata": {},
   "source": [
    "For this mini project, we will focus on equities data from the Frankfurt Stock Exhange (FSE), which is available for free. We'll try and analyze the stock prices of a company called Carl Zeiss Meditec, which manufactures tools for eye examinations, as well as medical lasers for laser eye surgery: https://www.zeiss.com/meditec/int/home.html. The company is listed under the stock ticker AFX_X."
   ]
  },
  {
   "cell_type": "markdown",
   "metadata": {},
   "source": [
    "You can find the detailed Quandl API instructions here: https://docs.quandl.com/docs/time-series"
   ]
  },
  {
   "cell_type": "markdown",
   "metadata": {},
   "source": [
    "While there is a dedicated Python package for connecting to the Quandl API, we would prefer that you use the *requests* package, which can be easily downloaded using *pip* or *conda*. You can find the documentation for the package here: http://docs.python-requests.org/en/master/ "
   ]
  },
  {
   "cell_type": "markdown",
   "metadata": {},
   "source": [
    "Finally, apart from the *requests* package, you are encouraged to not use any third party Python packages, such as *pandas*, and instead focus on what's available in the Python Standard Library (the *collections* module might come in handy: https://pymotw.com/3/collections/ ).\n",
    "Also, since you won't have access to DataFrames, you are encouraged to us Python's native data structures - preferably dictionaries, though some questions can also be answered using lists.\n",
    "You can read more on these data structures here: https://docs.python.org/3/tutorial/datastructures.html"
   ]
  },
  {
   "cell_type": "markdown",
   "metadata": {},
   "source": [
    "Keep in mind that the JSON responses you will be getting from the API map almost one-to-one to Python's dictionaries. Unfortunately, they can be very nested, so make sure you read up on indexing dictionaries in the documentation provided above."
   ]
  },
  {
   "cell_type": "code",
   "execution_count": 2,
   "metadata": {
    "collapsed": true
   },
   "outputs": [
    {
     "name": "stdout",
     "output_type": "stream",
     "text": [
      "Requirement already satisfied: requests in c:\\users\\squatch\\appdata\\local\\programs\\python\\python36-32\\lib\\site-packages (2.22.0)Note: you may need to restart the kernel to use updated packages.\n"
     ]
    },
    {
     "name": "stderr",
     "output_type": "stream",
     "text": [
      "WARNING: Ignoring invalid distribution -atplotlib (c:\\users\\squatch\\appdata\\local\\programs\\python\\python36-32\\lib\\site-packages)\n",
      "WARNING: Ignoring invalid distribution -atplotlib (c:\\users\\squatch\\appdata\\local\\programs\\python\\python36-32\\lib\\site-packages)\n",
      "WARNING: Ignoring invalid distribution -atplotlib (c:\\users\\squatch\\appdata\\local\\programs\\python\\python36-32\\lib\\site-packages)\n"
     ]
    },
    {
     "name": "stdout",
     "output_type": "stream",
     "text": [
      "\n",
      "Requirement already satisfied: idna<2.9,>=2.5 in c:\\users\\squatch\\appdata\\local\\programs\\python\\python36-32\\lib\\site-packages (from requests) (2.8)\n",
      "Requirement already satisfied: urllib3!=1.25.0,!=1.25.1,<1.26,>=1.21.1 in c:\\users\\squatch\\appdata\\local\\programs\\python\\python36-32\\lib\\site-packages (from requests) (1.25.8)\n",
      "Requirement already satisfied: certifi>=2017.4.17 in c:\\users\\squatch\\appdata\\local\\programs\\python\\python36-32\\lib\\site-packages (from requests) (2019.11.28)\n",
      "Requirement already satisfied: chardet<3.1.0,>=3.0.2 in c:\\users\\squatch\\appdata\\local\\programs\\python\\python36-32\\lib\\site-packages (from requests) (3.0.4)\n"
     ]
    },
    {
     "name": "stderr",
     "output_type": "stream",
     "text": [
      "WARNING: Ignoring invalid distribution -atplotlib (c:\\users\\squatch\\appdata\\local\\programs\\python\\python36-32\\lib\\site-packages)\n",
      "WARNING: Ignoring invalid distribution -atplotlib (c:\\users\\squatch\\appdata\\local\\programs\\python\\python36-32\\lib\\site-packages)\n",
      "WARNING: Ignoring invalid distribution -atplotlib (c:\\users\\squatch\\appdata\\local\\programs\\python\\python36-32\\lib\\site-packages)\n"
     ]
    },
    {
     "name": "stdout",
     "output_type": "stream",
     "text": [
      "Requirement already satisfied: quandl in c:\\users\\squatch\\appdata\\local\\programs\\python\\python36-32\\lib\\site-packages (3.6.1)\n",
      "Requirement already satisfied: pandas>=0.14 in c:\\users\\squatch\\appdata\\local\\programs\\python\\python36-32\\lib\\site-packages (from quandl) (1.1.5)\n",
      "Requirement already satisfied: inflection>=0.3.1 in c:\\users\\squatch\\appdata\\local\\programs\\python\\python36-32\\lib\\site-packages (from quandl) (0.5.1)\n",
      "Requirement already satisfied: more-itertools in c:\\users\\squatch\\appdata\\local\\programs\\python\\python36-32\\lib\\site-packages (from quandl) (8.8.0)\n",
      "Requirement already satisfied: requests>=2.7.0 in c:\\users\\squatch\\appdata\\local\\programs\\python\\python36-32\\lib\\site-packages (from quandl) (2.22.0)\n",
      "Requirement already satisfied: python-dateutil in c:\\users\\squatch\\appdata\\local\\programs\\python\\python36-32\\lib\\site-packages (from quandl) (2.8.1)\n",
      "Requirement already satisfied: numpy>=1.8 in c:\\users\\squatch\\appdata\\local\\programs\\python\\python36-32\\lib\\site-packages (from quandl) (1.18.0)\n",
      "Requirement already satisfied: six in c:\\users\\squatch\\appdata\\local\\programs\\python\\python36-32\\lib\\site-packages (from quandl) (1.11.0)\n",
      "Requirement already satisfied: pytz>=2017.2 in c:\\users\\squatch\\appdata\\local\\programs\\python\\python36-32\\lib\\site-packages (from pandas>=0.14->quandl) (2017.3)\n",
      "Requirement already satisfied: urllib3!=1.25.0,!=1.25.1,<1.26,>=1.21.1 in c:\\users\\squatch\\appdata\\local\\programs\\python\\python36-32\\lib\\site-packages (from requests>=2.7.0->quandl) (1.25.8)\n",
      "Requirement already satisfied: certifi>=2017.4.17 in c:\\users\\squatch\\appdata\\local\\programs\\python\\python36-32\\lib\\site-packages (from requests>=2.7.0->quandl) (2019.11.28)\n",
      "Requirement already satisfied: idna<2.9,>=2.5 in c:\\users\\squatch\\appdata\\local\\programs\\python\\python36-32\\lib\\site-packages (from requests>=2.7.0->quandl) (2.8)\n",
      "Requirement already satisfied: chardet<3.1.0,>=3.0.2 in c:\\users\\squatch\\appdata\\local\\programs\\python\\python36-32\\lib\\site-packages (from requests>=2.7.0->quandl) (3.0.4)\n",
      "Note: you may need to restart the kernel to use updated packages.\n"
     ]
    }
   ],
   "source": [
    "# First, import the relevant modules\n",
    "%pip install requests\n",
    "%pip install quandl\n",
    "\n",
    "import quandl\n",
    "import requests\n",
    "\n",
    "\n"
   ]
  },
  {
   "cell_type": "code",
   "execution_count": 20,
   "metadata": {},
   "outputs": [],
   "source": [
    "# Now, call the Quandl API and pull out a small sample of the data (only one day) to get a glimpse\n",
    "# into the JSON structure that will be returned\n",
    "\n",
    "#https://www.quandl.com/api/v3/datasets/XFRA/AGB2_UADJ?start_date=2018-11-30&end_date=2018-11-30&api_key=oV3LCMFuxGcsZ8dkJqc8\n",
    "\n",
    "quandl.ApiConfig.api_key= API_KEY\n",
    "data= quandl.get(\"XFRA/ADS_UADJ\", start_date=\"2018-04-23\", end_date=\"2018-04-23\", returns='json')\n",
    "data\n",
    "\n",
    "r= requests.get(\"https://www.quandl.com/api/v3/datasets/XFRA/ADS_UADJ?start_date=2018-04-23&end_date=2018-04-23&api_key=oV3LCMFuxGcsZ8dkJqc8\")"
   ]
  },
  {
   "cell_type": "code",
   "execution_count": 17,
   "metadata": {},
   "outputs": [
    {
     "data": {
      "text/plain": [
       "<Response [200]>"
      ]
     },
     "execution_count": 17,
     "metadata": {},
     "output_type": "execute_result"
    }
   ],
   "source": [
    "r"
   ]
  },
  {
   "cell_type": "code",
   "execution_count": 18,
   "metadata": {},
   "outputs": [
    {
     "data": {
      "text/html": [
       "<div>\n",
       "<style scoped>\n",
       "    .dataframe tbody tr th:only-of-type {\n",
       "        vertical-align: middle;\n",
       "    }\n",
       "\n",
       "    .dataframe tbody tr th {\n",
       "        vertical-align: top;\n",
       "    }\n",
       "\n",
       "    .dataframe thead th {\n",
       "        text-align: right;\n",
       "    }\n",
       "</style>\n",
       "<table border=\"1\" class=\"dataframe\">\n",
       "  <thead>\n",
       "    <tr style=\"text-align: right;\">\n",
       "      <th></th>\n",
       "      <th>Open</th>\n",
       "      <th>High</th>\n",
       "      <th>Low</th>\n",
       "      <th>Close</th>\n",
       "      <th>Volume</th>\n",
       "      <th>Adjustment Factor</th>\n",
       "      <th>Adjustment Type</th>\n",
       "    </tr>\n",
       "    <tr>\n",
       "      <th>Date</th>\n",
       "      <th></th>\n",
       "      <th></th>\n",
       "      <th></th>\n",
       "      <th></th>\n",
       "      <th></th>\n",
       "      <th></th>\n",
       "      <th></th>\n",
       "    </tr>\n",
       "  </thead>\n",
       "  <tbody>\n",
       "    <tr>\n",
       "      <th>2018-04-23</th>\n",
       "      <td>213.1</td>\n",
       "      <td>213.1</td>\n",
       "      <td>210.0</td>\n",
       "      <td>211.3</td>\n",
       "      <td>536.0</td>\n",
       "      <td>None</td>\n",
       "      <td>None</td>\n",
       "    </tr>\n",
       "  </tbody>\n",
       "</table>\n",
       "</div>"
      ],
      "text/plain": [
       "             Open   High    Low  Close  Volume Adjustment Factor  \\\n",
       "Date                                                               \n",
       "2018-04-23  213.1  213.1  210.0  211.3   536.0              None   \n",
       "\n",
       "           Adjustment Type  \n",
       "Date                        \n",
       "2018-04-23            None  "
      ]
     },
     "execution_count": 18,
     "metadata": {},
     "output_type": "execute_result"
    }
   ],
   "source": [
    "data"
   ]
  },
  {
   "cell_type": "code",
   "execution_count": 21,
   "metadata": {
    "scrolled": true
   },
   "outputs": [
    {
     "data": {
      "text/plain": [
       "<bound method DataFrame.info of              Open   High    Low  Close  Volume Adjustment Factor  \\\n",
       "Date                                                               \n",
       "2018-04-23  213.1  213.1  210.0  211.3   536.0              None   \n",
       "\n",
       "           Adjustment Type  \n",
       "Date                        \n",
       "2018-04-23            None  >"
      ]
     },
     "execution_count": 21,
     "metadata": {},
     "output_type": "execute_result"
    }
   ],
   "source": [
    "data.info"
   ]
  },
  {
   "cell_type": "code",
   "execution_count": 34,
   "metadata": {},
   "outputs": [
    {
     "data": {
      "text/plain": [
       "{'dataset': {'id': 46112466,\n",
       "  'dataset_code': 'ADS_UADJ',\n",
       "  'database_code': 'XFRA',\n",
       "  'name': 'Adidas AG (ADS) Unadjusted Stock Prices',\n",
       "  'description': ' <b>Ticker</b>: ADS <br> <br> <b>Exchange</b>: XFRA <br> <br> Columns: <br> <br> Open,High,Low,Close,Volume are unadjusted and shown in EUR currency. <br> <br> Adjustment Factor shows the factor by which prices are adjusted on days which adjustments take place <br> <br> Adjustment Type is a number representing the type of adjustment. Refer to documentation for more information on these codes.',\n",
       "  'refreshed_at': '2021-06-26T02:41:22.382Z',\n",
       "  'newest_available_date': '2018-11-30',\n",
       "  'oldest_available_date': '2007-01-02',\n",
       "  'column_names': ['Date',\n",
       "   'Open',\n",
       "   'High',\n",
       "   'Low',\n",
       "   'Close',\n",
       "   'Volume',\n",
       "   'Adjustment Factor',\n",
       "   'Adjustment Type'],\n",
       "  'frequency': 'daily',\n",
       "  'type': 'Time Series',\n",
       "  'premium': True,\n",
       "  'limit': None,\n",
       "  'transform': None,\n",
       "  'column_index': None,\n",
       "  'start_date': '2018-04-23',\n",
       "  'end_date': '2018-04-23',\n",
       "  'data': [['2018-04-23', 213.1, 213.1, 210.0, 211.3, 536.0, None, None]],\n",
       "  'collapse': None,\n",
       "  'order': None,\n",
       "  'database_id': 15302}}"
      ]
     },
     "execution_count": 34,
     "metadata": {},
     "output_type": "execute_result"
    }
   ],
   "source": [
    "# Inspect the JSON structure of the object you created, and take note of how nested it is,\n",
    "# as well as the overall structure\n",
    "arj= r.json()\n",
    "arj"
   ]
  },
  {
   "cell_type": "markdown",
   "metadata": {},
   "source": [
    "These are your tasks for this mini project:\n",
    "\n",
    "1. Collect data from the Franfurt Stock Exchange, for the ticker AFX_X, for the whole year 2017 (keep in mind that the date format is YYYY-MM-DD).\n",
    "2. Convert the returned JSON object into a Python dictionary.\n",
    "3. Calculate what the highest and lowest opening prices were for the stock in this period.\n",
    "4. What was the largest change in any one day (based on High and Low price)?\n",
    "5. What was the largest change between any two days (based on Closing Price)?\n",
    "6. What was the average daily trading volume during this year?\n",
    "7. (Optional) What was the median trading volume during this year. (Note: you may need to implement your own function for calculating the median.)\n"
   ]
  },
  {
   "cell_type": "code",
   "execution_count": null,
   "metadata": {},
   "outputs": [],
   "source": [
    "### NOTE :\n",
    "### I was not able to get data for AFX_X so instead I used \n",
    "### Addidas Unadjusted Stock Prices (ADS_UADJ)"
   ]
  },
  {
   "cell_type": "code",
   "execution_count": 64,
   "metadata": {},
   "outputs": [
    {
     "data": {
      "text/plain": [
       "requests.models.Response"
      ]
     },
     "execution_count": 64,
     "metadata": {},
     "output_type": "execute_result"
    }
   ],
   "source": [
    "# 1) Collect data for 2017\n",
    "r17= requests.get(\"https://www.quandl.com/api/v3/datasets/XFRA/ADS_UADJ?start_date=2017-01-01&end_date=2017-12-31&api_key=oV3LCMFuxGcsZ8dkJqc8\")\n",
    "r17\n",
    "type(r17)"
   ]
  },
  {
   "cell_type": "code",
   "execution_count": 66,
   "metadata": {
    "collapsed": true
   },
   "outputs": [
    {
     "data": {
      "text/plain": [
       "{'dataset': {'id': 46112466,\n",
       "  'dataset_code': 'ADS_UADJ',\n",
       "  'database_code': 'XFRA',\n",
       "  'name': 'Adidas AG (ADS) Unadjusted Stock Prices',\n",
       "  'description': ' <b>Ticker</b>: ADS <br> <br> <b>Exchange</b>: XFRA <br> <br> Columns: <br> <br> Open,High,Low,Close,Volume are unadjusted and shown in EUR currency. <br> <br> Adjustment Factor shows the factor by which prices are adjusted on days which adjustments take place <br> <br> Adjustment Type is a number representing the type of adjustment. Refer to documentation for more information on these codes.',\n",
       "  'refreshed_at': '2021-06-26T02:41:22.382Z',\n",
       "  'newest_available_date': '2018-11-30',\n",
       "  'oldest_available_date': '2007-01-02',\n",
       "  'column_names': ['Date',\n",
       "   'Open',\n",
       "   'High',\n",
       "   'Low',\n",
       "   'Close',\n",
       "   'Volume',\n",
       "   'Adjustment Factor',\n",
       "   'Adjustment Type'],\n",
       "  'frequency': 'daily',\n",
       "  'type': 'Time Series',\n",
       "  'premium': True,\n",
       "  'limit': None,\n",
       "  'transform': None,\n",
       "  'column_index': None,\n",
       "  'start_date': '2017-01-01',\n",
       "  'end_date': '2017-12-31',\n",
       "  'data': [['2017-12-29',\n",
       "    168.767,\n",
       "    168.767,\n",
       "    167.325,\n",
       "    167.35,\n",
       "    1060.0,\n",
       "    None,\n",
       "    None],\n",
       "   ['2017-12-28', 169.896, 169.896, 168.183, 168.463, 1019.0, None, None],\n",
       "   ['2017-12-27', 170.57, 170.57, 169.36, 169.894, 1121.0, None, None],\n",
       "   ['2017-12-26', 169.5, 169.5, 169.5, 169.5, 0.0, None, None],\n",
       "   ['2017-12-25', 169.5, 169.5, 169.5, 169.5, 0.0, None, None],\n",
       "   ['2017-12-22', 169.75, 170.225, 169.0, 169.5, 2067.0, None, None],\n",
       "   ['2017-12-21', 170.402, 171.179, 169.0, 169.846, 2173.0, None, None],\n",
       "   ['2017-12-20', 172.924, 172.924, 170.0, 170.391, 1489.0, None, None],\n",
       "   ['2017-12-19', 173.575, 174.0, 172.914, 172.965, 752.0, None, None],\n",
       "   ['2017-12-18', 174.05, 174.277, 172.825, 173.575, 1661.0, None, None],\n",
       "   ['2017-12-15', 168.14, 172.371, 168.101, 172.371, 1826.0, None, None],\n",
       "   ['2017-12-14', 168.567, 170.85, 165.8, 168.2, 3261.0, None, None],\n",
       "   ['2017-12-13', 174.469, 174.469, 167.252, 168.31, 5067.0, None, None],\n",
       "   ['2017-12-12', 176.154, 176.313, 173.0, 174.0, 2348.0, None, None],\n",
       "   ['2017-12-11', 181.509, 181.509, 174.25, 175.741, 2903.0, None, None],\n",
       "   ['2017-12-08', 181.427, 181.747, 180.575, 181.13, 2083.0, None, None],\n",
       "   ['2017-12-07', 180.104, 180.699, 179.25, 180.699, 1281.0, None, None],\n",
       "   ['2017-12-06', 176.441, 179.75, 175.999, 179.296, 1351.0, None, None],\n",
       "   ['2017-12-05', 177.048, 177.836, 175.75, 177.391, 1917.0, None, None],\n",
       "   ['2017-12-04', 177.05, 177.403, 176.543, 177.193, 1975.0, None, None],\n",
       "   ['2017-12-01', 176.082, 176.64, 175.0, 175.779, 3104.0, None, None],\n",
       "   ['2017-11-30', 177.287, 177.814, 175.144, 175.582, 1521.0, None, None],\n",
       "   ['2017-11-29', 179.268, 181.449, 177.113, 177.604, 1363.0, None, None],\n",
       "   ['2017-11-28', 179.079, 180.0, 178.95, 179.153, 880.0, None, None],\n",
       "   ['2017-11-27', 180.034, 180.675, 178.858, 179.054, 2280.0, None, None],\n",
       "   ['2017-11-24', 181.547, 182.343, 180.0, 180.913, 2592.0, None, None],\n",
       "   ['2017-11-23', 182.712, 182.712, 181.664, 181.682, 814.0, None, None],\n",
       "   ['2017-11-22', 187.039, 187.763, 182.7, 183.5, 2712.0, None, None],\n",
       "   ['2017-11-21', 185.0, 187.55, 184.622, 187.549, 2106.0, None, None],\n",
       "   ['2017-11-20', 183.693, 186.45, 183.693, 185.218, 2654.0, None, None],\n",
       "   ['2017-11-17', 184.851, 186.3, 184.85, 185.626, 779.0, None, None],\n",
       "   ['2017-11-16', 186.229, 187.313, 184.313, 184.851, 636.0, None, None],\n",
       "   ['2017-11-15', 187.389, 187.389, 183.358, 186.172, 2694.0, None, None],\n",
       "   ['2017-11-14', 184.368, 188.257, 183.208, 187.423, 2052.0, None, None],\n",
       "   ['2017-11-13', 182.716, 184.414, 180.84, 184.0, 1926.0, None, None],\n",
       "   ['2017-11-10', 176.7, 181.857, 176.0, 181.196, 6443.0, None, None],\n",
       "   ['2017-11-09', 186.325, 186.336, 174.95, 175.999, 13020.0, None, None],\n",
       "   ['2017-11-08', 183.846, 185.287, 183.846, 184.707, 503.0, None, None],\n",
       "   ['2017-11-07', 183.765, 184.35, 183.15, 183.418, 1410.0, None, None],\n",
       "   ['2017-11-06', 187.299, 187.299, 182.725, 182.756, 4602.0, None, None],\n",
       "   ['2017-11-03', 187.542, 188.293, 186.692, 187.377, 849.0, None, None],\n",
       "   ['2017-11-02', 187.833, 189.737, 186.791, 187.182, 737.0, None, None],\n",
       "   ['2017-11-01', 192.318, 192.318, 187.227, 187.695, 2762.0, None, None],\n",
       "   ['2017-10-31', 191.139, 191.139, 191.139, 191.139, 0.0, None, None],\n",
       "   ['2017-10-30', 190.95, 191.843, 190.596, 191.139, 1656.0, None, None],\n",
       "   ['2017-10-27', 190.425, 192.479, 190.425, 191.0, 781.0, None, None],\n",
       "   ['2017-10-26', 186.807, 190.57, 186.807, 190.5, 663.0, None, None],\n",
       "   ['2017-10-25', 187.696, 188.448, 185.992, 186.95, 1593.0, None, None],\n",
       "   ['2017-10-24', 187.061, 188.213, 186.446, 187.4, 1011.0, None, None],\n",
       "   ['2017-10-23', 188.0, 189.113, 186.643, 187.555, 835.0, None, None],\n",
       "   ['2017-10-20', 187.623, 188.037, 186.983, 187.164, 539.0, None, None],\n",
       "   ['2017-10-19', 191.198, 191.198, 186.727, 186.755, 1841.0, None, None],\n",
       "   ['2017-10-18', 191.814, 191.898, 189.163, 189.163, 820.0, None, None],\n",
       "   ['2017-10-17', 191.998, 193.237, 190.95, 190.95, 211.0, None, None],\n",
       "   ['2017-10-16', 193.669, 193.669, 191.637, 192.195, 1411.0, None, None],\n",
       "   ['2017-10-13', 193.834, 194.508, 193.191, 193.191, 970.0, None, None],\n",
       "   ['2017-10-12', 194.0, 194.493, 193.507, 194.115, 165.0, None, None],\n",
       "   ['2017-10-11', 194.95, 195.439, 193.587, 193.856, 239.0, None, None],\n",
       "   ['2017-10-10', 195.237, 196.187, 194.463, 194.944, 492.0, None, None],\n",
       "   ['2017-10-09', 193.179, 195.146, 193.0, 194.858, 696.0, None, None],\n",
       "   ['2017-10-06', 194.748, 194.748, 192.357, 192.357, 1423.0, None, None],\n",
       "   ['2017-10-05', 195.333, 196.575, 193.913, 193.913, 1123.0, None, None],\n",
       "   ['2017-10-04', 196.998, 196.998, 194.307, 194.737, 1493.0, None, None],\n",
       "   ['2017-10-03', 195.951, 195.951, 195.951, 195.951, 0.0, None, None],\n",
       "   ['2017-10-02', 192.46, 196.843, 192.46, 195.951, 5681.0, None, None],\n",
       "   ['2017-09-29', 188.899, 191.74, 188.899, 191.431, 595.0, None, None],\n",
       "   ['2017-09-28', 188.784, 188.784, 187.684, 188.58, 1046.0, None, None],\n",
       "   ['2017-09-27', 186.804, 190.137, 186.231, 188.226, 4222.0, None, None],\n",
       "   ['2017-09-26', 191.927, 191.927, 187.5, 187.681, 1402.0, None, None],\n",
       "   ['2017-09-25', 191.511, 194.087, 191.511, 192.521, 945.0, None, None],\n",
       "   ['2017-09-22', 192.79, 193.293, 192.001, 192.001, 1605.0, None, None],\n",
       "   ['2017-09-21', 194.953, 194.953, 192.137, 193.67, 585.0, None, None],\n",
       "   ['2017-09-20', 195.273, 195.273, 193.0, 193.29, 1959.0, None, None],\n",
       "   ['2017-09-19', 197.392, 197.392, 194.774, 194.774, 274.0, None, None],\n",
       "   ['2017-09-18', 198.173, 199.0, 196.713, 196.881, 255.0, None, None],\n",
       "   ['2017-09-15', 197.99, 198.537, 197.99, 198.015, 200.0, None, None],\n",
       "   ['2017-09-14', 198.999, 198.999, 197.0, 197.787, 921.0, None, None],\n",
       "   ['2017-09-13', 197.404, 199.074, 197.404, 199.074, 460.0, None, None],\n",
       "   ['2017-09-12', 197.298, 198.087, 197.298, 198.007, 156.0, None, None],\n",
       "   ['2017-09-11', 196.475, 198.124, 196.475, 198.124, 1769.0, None, None],\n",
       "   ['2017-09-08', 194.802, 195.3, 193.771, 194.883, 532.0, None, None],\n",
       "   ['2017-09-07', 191.492, 196.0, 191.492, 195.255, 797.0, None, None],\n",
       "   ['2017-09-06', 188.422, 192.096, 187.537, 192.096, 861.0, None, None],\n",
       "   ['2017-09-05', 189.608, 189.608, 189.608, 189.608, 0.0, None, None],\n",
       "   ['2017-09-04', 188.869, 190.237, 188.737, 189.608, 528.0, None, None],\n",
       "   ['2017-09-01', 189.043, 191.937, 189.043, 190.384, 669.0, None, None],\n",
       "   ['2017-08-31', 186.969, 189.093, 186.559, 188.757, 946.0, None, None],\n",
       "   ['2017-08-30', 183.298, 187.185, 183.298, 186.102, 564.0, None, None],\n",
       "   ['2017-08-29', 183.903, 183.903, 181.763, 182.805, 1422.0, None, None],\n",
       "   ['2017-08-28', 187.092, 187.092, 185.307, 185.525, 1660.0, None, None],\n",
       "   ['2017-08-25', 185.99, 188.843, 185.263, 187.9, 2191.0, None, None],\n",
       "   ['2017-08-24', 188.293, 190.247, 187.64, 187.64, 6148.0, None, None],\n",
       "   ['2017-08-23', 189.425, 189.425, 189.425, 189.425, 0.0, None, None],\n",
       "   ['2017-08-22', 188.75, 189.741, 188.75, 189.425, 333.0, None, None],\n",
       "   ['2017-08-21', 189.508, 189.995, 186.863, 187.502, 562.0, None, None],\n",
       "   ['2017-08-18', 191.55, 191.55, 183.616, 189.19, 3420.0, None, None],\n",
       "   ['2017-08-17', 193.647, 193.647, 191.175, 191.462, 316.0, None, None],\n",
       "   ['2017-08-16', 194.416, 195.506, 193.413, 193.453, 2014.0, None, None],\n",
       "   ['2017-08-15', 194.082, 195.487, 194.082, 194.469, 470.0, None, None],\n",
       "   ['2017-08-14', 193.041, 194.2, 191.863, 192.937, 1556.0, None, None],\n",
       "   ['2017-08-11', 189.462, 192.037, 189.462, 191.923, 1745.0, None, None],\n",
       "   ['2017-08-10', 193.4, 193.4, 190.074, 190.074, 1675.0, None, None],\n",
       "   ['2017-08-09', 198.529, 198.529, 193.44, 193.45, 1425.0, None, None],\n",
       "   ['2017-08-08', 199.3, 199.787, 197.95, 199.005, 1210.0, None, None],\n",
       "   ['2017-08-07', 198.43, 199.5, 197.899, 199.26, 1360.0, None, None],\n",
       "   ['2017-08-04', 192.683, 201.013, 192.683, 199.413, 2618.0, None, None],\n",
       "   ['2017-08-03', 192.598, 193.199, 188.993, 193.198, 2454.0, None, None],\n",
       "   ['2017-08-02', 191.631, 193.7, 191.631, 191.871, 706.0, None, None],\n",
       "   ['2017-08-01', 192.864, 193.464, 191.35, 191.9, 1238.0, None, None],\n",
       "   ['2017-07-31', 192.936, 193.55, 192.0, 192.722, 1751.0, None, None],\n",
       "   ['2017-07-28', 185.474, 193.5, 184.874, 192.876, 10388.0, None, None],\n",
       "   ['2017-07-27', 176.698, 184.9, 176.698, 183.51, 4820.0, None, None],\n",
       "   ['2017-07-26', 176.303, 177.487, 176.303, 177.031, 124.0, None, None],\n",
       "   ['2017-07-25', 176.68, 177.387, 175.9, 176.74, 885.0, None, None],\n",
       "   ['2017-07-24', 176.893, 178.001, 176.637, 177.001, 667.0, None, None],\n",
       "   ['2017-07-21', 179.946, 180.287, 177.043, 177.043, 179.0, None, None],\n",
       "   ['2017-07-20', 179.373, 181.087, 178.52, 179.58, 284.0, None, None],\n",
       "   ['2017-07-19', 180.139, 180.29, 179.019, 179.244, 524.0, None, None],\n",
       "   ['2017-07-18', 182.098, 182.098, 179.387, 180.056, 878.0, None, None],\n",
       "   ['2017-07-17', 181.5, 183.0, 180.087, 182.256, 1612.0, None, None],\n",
       "   ['2017-07-14', 180.301, 180.843, 180.013, 180.496, 1670.0, None, None],\n",
       "   ['2017-07-13', 178.782, 180.573, 178.308, 180.503, 503.0, None, None],\n",
       "   ['2017-07-12', 174.764, 179.0, 174.764, 178.394, 3761.0, None, None],\n",
       "   ['2017-07-11', 175.241, 175.937, 174.5, 175.05, 893.0, None, None],\n",
       "   ['2017-07-10', 177.092, 177.092, 174.923, 175.308, 472.0, None, None],\n",
       "   ['2017-07-07', 175.791, 176.437, 175.137, 176.163, 659.0, None, None],\n",
       "   ['2017-07-06', 177.352, 178.403, 174.94, 176.511, 3333.0, None, None],\n",
       "   ['2017-07-05', 170.755, 177.493, 170.755, 176.862, 2892.0, None, None],\n",
       "   ['2017-07-04', 168.5, 168.841, 168.187, 168.543, 655.0, None, None],\n",
       "   ['2017-07-03', 169.079, 169.657, 168.25, 168.88, 682.0, None, None],\n",
       "   ['2017-06-30', 164.55, 169.578, 164.55, 168.73, 2058.0, None, None],\n",
       "   ['2017-06-29', 168.896, 168.896, 163.65, 164.568, 2741.0, None, None],\n",
       "   ['2017-06-28', 168.557, 168.557, 168.557, 168.557, 0.0, None, None],\n",
       "   ['2017-06-27', 168.601, 168.922, 167.587, 168.557, 617.0, None, None],\n",
       "   ['2017-06-26', 169.041, 169.773, 168.5, 168.986, 1105.0, None, None],\n",
       "   ['2017-06-23', 169.716, 169.716, 168.157, 168.887, 434.0, None, None],\n",
       "   ['2017-06-22', 171.027, 171.027, 169.627, 169.627, 517.0, None, None],\n",
       "   ['2017-06-21', 172.023, 172.023, 169.75, 170.92, 368.0, None, None],\n",
       "   ['2017-06-20', 175.113, 175.113, 172.025, 172.025, 270.0, None, None],\n",
       "   ['2017-06-19', 174.585, 175.237, 174.163, 174.909, 342.0, None, None],\n",
       "   ['2017-06-16', 173.769, 174.687, 173.342, 174.056, 448.0, None, None],\n",
       "   ['2017-06-15', 177.479, 177.479, 173.469, 173.469, 100.0, None, None],\n",
       "   ['2017-06-14', 175.55, 178.55, 174.7, 177.681, 2326.0, None, None],\n",
       "   ['2017-06-13', 172.244, 176.037, 172.0, 175.75, 1257.0, None, None],\n",
       "   ['2017-06-12', 169.5, 172.68, 169.104, 172.5, 564.0, None, None],\n",
       "   ['2017-06-09', 168.731, 170.078, 168.368, 170.078, 545.0, None, None],\n",
       "   ['2017-06-08', 171.701, 171.701, 168.523, 168.88, 552.0, None, None],\n",
       "   ['2017-06-07', 168.399, 171.112, 167.453, 171.049, 1526.0, None, None],\n",
       "   ['2017-06-06', 171.05, 171.4, 169.0, 169.285, 1689.0, None, None],\n",
       "   ['2017-06-05', 171.657, 171.657, 171.657, 171.657, 0.0, None, None],\n",
       "   ['2017-06-02', 171.545, 172.993, 171.473, 171.657, 1847.0, None, None],\n",
       "   ['2017-06-01', 170.877, 171.636, 170.868, 171.2, 291.0, None, None],\n",
       "   ['2017-05-31', 173.931, 174.064, 170.294, 170.734, 539.0, None, None],\n",
       "   ['2017-05-30', 172.472, 174.298, 171.918, 174.187, 1065.0, None, None],\n",
       "   ['2017-05-29', 172.45, 173.002, 172.192, 173.001, 650.0, None, None],\n",
       "   ['2017-05-26', 170.643, 172.139, 170.395, 172.09, 128.0, None, None],\n",
       "   ['2017-05-25', 169.891, 171.124, 167.91, 171.124, 645.0, None, None],\n",
       "   ['2017-05-24', 170.903, 171.337, 169.5, 169.5, 1004.0, None, None],\n",
       "   ['2017-05-23', 171.953, 171.953, 169.912, 171.154, 1977.0, None, None],\n",
       "   ['2017-05-22', 172.927, 172.927, 169.368, 171.938, 1572.0, None, None],\n",
       "   ['2017-05-19', 174.615, 175.515, 172.287, 172.287, 797.0, None, None],\n",
       "   ['2017-05-18', 172.87, 175.597, 172.548, 174.0, 2998.0, None, None],\n",
       "   ['2017-05-17', 176.809, 176.809, 173.173, 173.173, 2646.0, None, None],\n",
       "   ['2017-05-16', 176.835, 178.0, 176.8, 177.319, 265.0, None, None],\n",
       "   ['2017-05-15', 176.861, 176.996, 175.959, 176.964, 924.0, None, None],\n",
       "   ['2017-05-12', 177.29, 177.334, 175.873, 176.209, 1976.0, 0.988837, 17.0],\n",
       "   ['2017-05-11', 181.48, 181.889, 178.767, 179.169, 1692.0, None, None],\n",
       "   ['2017-05-10', 183.725, 183.725, 180.698, 181.5, 1094.0, None, None],\n",
       "   ['2017-05-09', 182.19, 183.931, 181.84, 183.75, 1802.0, None, None],\n",
       "   ['2017-05-08', 185.8, 185.8, 181.842, 182.425, 3101.0, None, None],\n",
       "   ['2017-05-05', 183.613, 185.1, 182.898, 184.73, 875.0, None, None],\n",
       "   ['2017-05-04', 183.571, 187.809, 183.0, 183.0, 8258.0, None, None],\n",
       "   ['2017-05-03', 183.001, 183.001, 179.892, 182.1, 1197.0, None, None],\n",
       "   ['2017-05-02', 184.3, 184.508, 182.756, 183.329, 2077.0, None, None],\n",
       "   ['2017-05-01', 183.929, 183.929, 183.929, 183.929, 0.0, None, None],\n",
       "   ['2017-04-28', 184.283, 185.49, 183.41, 183.929, 1261.0, None, None],\n",
       "   ['2017-04-27', 184.999, 185.448, 184.862, 185.448, 357.0, None, None],\n",
       "   ['2017-04-26', 185.447, 186.0, 184.768, 185.136, 1297.0, None, None],\n",
       "   ['2017-04-25', 184.774, 185.953, 184.7, 185.948, 1523.0, None, None],\n",
       "   ['2017-04-24', 183.3, 185.082, 183.043, 184.444, 2715.0, None, None],\n",
       "   ['2017-04-21', 178.63, 180.713, 178.518, 180.713, 947.0, None, None],\n",
       "   ['2017-04-20', 176.274, 178.491, 176.274, 178.491, 225.0, None, None],\n",
       "   ['2017-04-19', 177.695, 177.695, 177.695, 177.695, 0.0, None, None],\n",
       "   ['2017-04-18', 178.673, 179.611, 177.491, 177.695, 689.0, None, None],\n",
       "   ['2017-04-17', 177.755, 177.755, 177.755, 177.755, 0.0, None, None],\n",
       "   ['2017-04-14', 177.755, 177.755, 177.755, 177.755, 0.0, None, None],\n",
       "   ['2017-04-13', 177.506, 178.388, 177.084, 177.755, 620.0, None, None],\n",
       "   ['2017-04-12', 176.161, 177.626, 176.055, 177.626, 1542.0, None, None],\n",
       "   ['2017-04-11', 177.35, 177.892, 175.37, 176.085, 1003.0, None, None],\n",
       "   ['2017-04-10', 178.2, 178.2, 176.881, 176.881, 482.0, None, None],\n",
       "   ['2017-04-07', 176.211, 178.5, 175.792, 178.266, 1449.0, None, None],\n",
       "   ['2017-04-06', 174.25, 176.638, 173.882, 176.638, 1316.0, None, None],\n",
       "   ['2017-04-05', 177.7, 177.7, 175.868, 176.15, 298.0, None, None],\n",
       "   ['2017-04-04', 176.6, 177.734, 175.47, 177.734, 808.0, None, None],\n",
       "   ['2017-04-03', 178.2, 179.393, 175.538, 175.761, 2938.0, None, None],\n",
       "   ['2017-03-31', 177.872, 178.639, 177.298, 178.235, 306.0, None, None],\n",
       "   ['2017-03-30', 177.861, 177.962, 177.0, 177.435, 379.0, None, None],\n",
       "   ['2017-03-29', 178.771, 178.771, 177.592, 178.339, 1066.0, None, None],\n",
       "   ['2017-03-28', 177.9, 178.399, 177.312, 177.312, 508.0, None, None],\n",
       "   ['2017-03-27', 177.6, 177.692, 175.937, 177.456, 1556.0, None, None],\n",
       "   ['2017-03-24', 179.9, 179.9, 178.5, 178.59, 430.0, None, None],\n",
       "   ['2017-03-23', 179.568, 179.901, 177.984, 179.5, 742.0, None, None],\n",
       "   ['2017-03-22', 179.0, 179.4, 178.52, 179.0, 2109.0, None, None],\n",
       "   ['2017-03-21', 180.78, 182.5, 179.459, 180.318, 1828.0, None, None],\n",
       "   ['2017-03-20', 183.35, 183.546, 181.011, 181.436, 2403.0, None, None],\n",
       "   ['2017-03-17', 183.1, 183.857, 182.29, 182.939, 1680.0, None, None],\n",
       "   ['2017-03-16', 181.3, 184.715, 180.9, 183.2, 14356.0, None, None],\n",
       "   ['2017-03-15', 175.8, 179.98, 175.8, 179.98, 4368.0, None, None],\n",
       "   ['2017-03-14', 180.158, 180.158, 175.15, 175.479, 2307.0, None, None],\n",
       "   ['2017-03-13', 179.9, 180.115, 178.982, 179.699, 3849.0, None, None],\n",
       "   ['2017-03-10', 178.5, 179.721, 177.45, 179.072, 2738.0, None, None],\n",
       "   ['2017-03-09', 174.55, 179.788, 173.999, 178.358, 6553.0, None, None],\n",
       "   ['2017-03-08', 165.0, 174.649, 165.0, 174.6, 19993.0, None, None],\n",
       "   ['2017-03-07', 160.077, 160.562, 159.268, 160.0, 1501.0, None, None],\n",
       "   ['2017-03-06', 160.9, 161.517, 160.3, 160.3, 926.0, None, None],\n",
       "   ['2017-03-03', 161.906, 162.205, 160.79, 160.812, 1247.0, None, None],\n",
       "   ['2017-03-02', 160.45, 163.532, 159.784, 162.8, 1228.0, None, None],\n",
       "   ['2017-03-01', 158.429, 160.857, 158.429, 160.456, 1733.0, None, None],\n",
       "   ['2017-02-28', 157.0, 158.499, 156.9, 158.499, 1131.0, None, None],\n",
       "   ['2017-02-27', 154.0, 158.302, 153.9, 157.768, 5358.0, None, None],\n",
       "   ['2017-02-24', 152.616, 153.068, 150.955, 152.021, 837.0, None, None],\n",
       "   ['2017-02-23', 152.907, 153.432, 152.418, 152.898, 354.0, None, None],\n",
       "   ['2017-02-22', 151.999, 152.998, 151.999, 152.953, 1358.0, None, None],\n",
       "   ['2017-02-21', 148.236, 152.612, 148.236, 151.879, 717.0, None, None],\n",
       "   ['2017-02-20', 148.5, 149.017, 148.249, 148.249, 839.0, None, None],\n",
       "   ['2017-02-17', 147.825, 148.593, 146.5, 148.593, 1367.0, None, None],\n",
       "   ['2017-02-16', 149.626, 149.626, 147.968, 147.968, 576.0, None, None],\n",
       "   ['2017-02-15', 151.1, 151.1, 149.182, 149.628, 935.0, None, None],\n",
       "   ['2017-02-14', 150.585, 151.952, 150.585, 151.05, 693.0, None, None],\n",
       "   ['2017-02-13', 149.6, 152.0, 149.6, 151.079, 676.0, None, None],\n",
       "   ['2017-02-10', 148.205, 150.0, 148.205, 149.272, 789.0, None, None],\n",
       "   ['2017-02-09', 144.323, 148.238, 144.323, 148.037, 1954.0, None, None],\n",
       "   ['2017-02-08', 145.15, 145.15, 143.0, 144.136, 1227.0, None, None],\n",
       "   ['2017-02-07', 144.237, 145.527, 143.487, 143.88, 4155.0, None, None],\n",
       "   ['2017-02-06', 147.4, 147.4, 143.434, 143.434, 2142.0, None, None],\n",
       "   ['2017-02-03', 147.104, 147.508, 146.776, 147.257, 410.0, None, None],\n",
       "   ['2017-02-02', 147.0, 148.288, 147.0, 147.024, 771.0, None, None],\n",
       "   ['2017-02-01', 146.87, 148.112, 146.1, 147.32, 1969.0, None, None],\n",
       "   ['2017-01-31', 150.3, 152.001, 145.685, 146.423, 4286.0, None, None],\n",
       "   ['2017-01-30', 153.0, 153.257, 150.2, 150.453, 2940.0, None, None],\n",
       "   ['2017-01-27', 155.341, 155.88, 153.72, 153.72, 1874.0, None, None],\n",
       "   ['2017-01-26', 154.551, 155.521, 154.551, 154.8, 609.0, None, None],\n",
       "   ['2017-01-25', 153.257, 155.388, 153.257, 154.048, 1948.0, None, None],\n",
       "   ['2017-01-24', 152.92, 155.0, 152.803, 153.127, 1821.0, None, None],\n",
       "   ['2017-01-23', 152.3, 153.0, 151.9, 152.45, 1372.0, None, None],\n",
       "   ['2017-01-20', 151.963, 152.738, 150.176, 151.845, 1006.0, None, None],\n",
       "   ['2017-01-19', 151.413, 152.86, 150.69, 152.033, 1465.0, None, None],\n",
       "   ['2017-01-18', 147.62, 151.503, 147.62, 151.476, 1129.0, None, None],\n",
       "   ['2017-01-17', 148.062, 148.062, 146.85, 147.337, 61.0, None, None],\n",
       "   ['2017-01-16', 147.449, 148.543, 147.349, 148.267, 1482.0, None, None],\n",
       "   ['2017-01-13', 146.296, 147.9, 145.498, 147.826, 1264.0, None, None],\n",
       "   ['2017-01-12', 145.607, 146.217, 145.0, 146.217, 566.0, None, None],\n",
       "   ['2017-01-11', 144.88, 145.898, 144.568, 145.898, 434.0, None, None],\n",
       "   ['2017-01-10', 144.2, 145.317, 144.2, 145.015, 364.0, None, None],\n",
       "   ['2017-01-09', 145.7, 145.75, 144.367, 144.662, 1923.0, None, None],\n",
       "   ['2017-01-06', 144.428, 144.999, 143.0, 144.999, 354.0, None, None],\n",
       "   ['2017-01-05', 145.727, 146.45, 144.212, 144.212, 1506.0, None, None],\n",
       "   ['2017-01-04', 149.1, 149.658, 145.738, 145.738, 3538.0, None, None],\n",
       "   ['2017-01-03', 151.948, 152.089, 149.0, 149.329, 1393.0, None, None],\n",
       "   ['2017-01-02', 149.7, 151.832, 149.7, 151.001, 5334.0, None, None]],\n",
       "  'collapse': None,\n",
       "  'order': None,\n",
       "  'database_id': 15302}}"
      ]
     },
     "execution_count": 66,
     "metadata": {},
     "output_type": "execute_result"
    }
   ],
   "source": [
    "# 2) Convert from JSON to dictionary\n",
    "ads17= r17.json()\n",
    "ads17"
   ]
  },
  {
   "cell_type": "code",
   "execution_count": 67,
   "metadata": {},
   "outputs": [
    {
     "data": {
      "text/plain": [
       "dict"
      ]
     },
     "execution_count": 67,
     "metadata": {},
     "output_type": "execute_result"
    }
   ],
   "source": [
    "type(ads17)"
   ]
  },
  {
   "cell_type": "code",
   "execution_count": 123,
   "metadata": {},
   "outputs": [
    {
     "name": "stdout",
     "output_type": "stream",
     "text": [
      "Highest opening price is:$199.30\n",
      "Lowest opening price is: $144.20\n"
     ]
    }
   ],
   "source": [
    "# 3) Calculate the highest and lowest opening prices\n",
    "\n",
    "data= ads17['dataset']['data']\n",
    "\n",
    "open_prices=[]\n",
    "\n",
    "for item in data:\n",
    "    elem= item[1]\n",
    "    open_prices.append(elem)\n",
    "\n",
    "\n",
    "high_open= max(open_prices)\n",
    "print (\"Highest opening price is:$%.2f\" % high_open)\n",
    "\n",
    "low_open= min(open_prices)\n",
    "print (\"Lowest opening price is: $%.2f\" % low_open)"
   ]
  },
  {
   "cell_type": "code",
   "execution_count": 126,
   "metadata": {},
   "outputs": [
    {
     "name": "stdout",
     "output_type": "stream",
     "text": [
      "The biggest differnce in one day is: $11.39\n"
     ]
    }
   ],
   "source": [
    "# 4) What is the largest change in one day (high, low)\n",
    "\n",
    "diff=[]\n",
    "\n",
    "for item in data:\n",
    "    date = item[0]\n",
    "    for day in date:\n",
    "        calc= item[2] - item[3]\n",
    "        diff.append(calc)\n",
    "\n",
    "print (\"The biggest differnce in one day is: $%.2f\" % max(diff))"
   ]
  },
  {
   "cell_type": "code",
   "execution_count": 127,
   "metadata": {},
   "outputs": [
    {
     "name": "stdout",
     "output_type": "stream",
     "text": [
      "The biggest closing difference between two days is: $8.71\n"
     ]
    }
   ],
   "source": [
    "# 5) What is the largest change between 2 days (closing)\n",
    "\n",
    "close_diff= []\n",
    "day_close= 0\n",
    "\n",
    "for item in data:\n",
    "    if day_close ==0:\n",
    "        day_close = item[4]\n",
    "    else:\n",
    "        close_diff.append(item[4] - day_close)\n",
    "        day_close= item[4]\n",
    "        \n",
    "print (\"The biggest closing difference between two days is: $%.2f\" % max(close_diff))"
   ]
  },
  {
   "cell_type": "code",
   "execution_count": 128,
   "metadata": {},
   "outputs": [
    {
     "name": "stdout",
     "output_type": "stream",
     "text": [
      "The average daily trading volume during the year 2017 is: $1638.32\n"
     ]
    }
   ],
   "source": [
    "# 6) What is the average daily trading volume during the year\n",
    "\n",
    "volumes= []\n",
    "\n",
    "for item in data:\n",
    "    vol= item[5]\n",
    "    volumes.append(vol)\n",
    "    \n",
    "print (\"The average daily trading volume during the year 2017 is: $%.2f\" % (sum(volumes)/len(volumes)))"
   ]
  },
  {
   "cell_type": "code",
   "execution_count": 151,
   "metadata": {},
   "outputs": [
    {
     "name": "stdout",
     "output_type": "stream",
     "text": [
      "The median trading volume for the year is:$ 1130.00\n"
     ]
    }
   ],
   "source": [
    "# 7) What is the median trading volume this year\n",
    "\n",
    "volumes= []\n",
    "\n",
    "for item in data:\n",
    "    vol= item[5]\n",
    "    volumes.append(vol)\n",
    "    \n",
    "def median(some_list):\n",
    "    some_list.sort\n",
    "    l= len(some_list)\n",
    "    \n",
    "    mid= (l-1)//2\n",
    "    \n",
    "    if (l%2==0):\n",
    "        return (some_list[mid] + some_list[mid + 1])/2\n",
    "    else:\n",
    "        return (some_list[mid])\n",
    "\n",
    "volumes.sort()\n",
    "\n",
    "print (\"The median trading volume for the year is:$ %.2f\" %  median(volumes))"
   ]
  }
 ],
 "metadata": {
  "kernelspec": {
   "display_name": "Python 3",
   "language": "python",
   "name": "python3"
  },
  "language_info": {
   "codemirror_mode": {
    "name": "ipython",
    "version": 3
   },
   "file_extension": ".py",
   "mimetype": "text/x-python",
   "name": "python",
   "nbconvert_exporter": "python",
   "pygments_lexer": "ipython3",
   "version": "3.6.1"
  }
 },
 "nbformat": 4,
 "nbformat_minor": 2
}
